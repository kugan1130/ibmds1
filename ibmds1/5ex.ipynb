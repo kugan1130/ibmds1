{
 "cells": [
  {
   "cell_type": "markdown",
   "id": "f6391558-29f8-4b5e-8950-52e332ac5cb8",
   "metadata": {},
   "source": [
    "## Data Science Libraries\r\n",
    "- Pandas\r\n",
    "- NumPy\r\n",
    "- Matplotlib\r\n",
    "- Scikit-learn\r\n",
    "- TensorFlow\r\n"
   ]
  },
  {
   "cell_type": "code",
   "execution_count": null,
   "id": "6d627553-90f9-4120-a94e-a64dd740ee1c",
   "metadata": {},
   "outputs": [],
   "source": []
  }
 ],
 "metadata": {
  "kernelspec": {
   "display_name": "Python 3 (ipykernel)",
   "language": "python",
   "name": "python3"
  },
  "language_info": {
   "codemirror_mode": {
    "name": "ipython",
    "version": 3
   },
   "file_extension": ".py",
   "mimetype": "text/x-python",
   "name": "python",
   "nbconvert_exporter": "python",
   "pygments_lexer": "ipython3",
   "version": "3.12.4"
  }
 },
 "nbformat": 4,
 "nbformat_minor": 5
}
