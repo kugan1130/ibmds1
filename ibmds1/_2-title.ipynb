{
 "cells": [
  {
   "cell_type": "code",
   "execution_count": null,
   "id": "7eedc828-da61-44ae-897d-ddb0e0050438",
   "metadata": {},
   "outputs": [],
   "source": []
  },
  {
   "cell_type": "markdown",
   "id": "17e5bd29-f69f-4ae1-bcc7-1e35e33e0bb4",
   "metadata": {},
   "source": [
    "## Tools for datascience"
   ]
  },
  {
   "cell_type": "code",
   "execution_count": null,
   "id": "a065da91-1ee9-4ffd-9543-14063359aa3a",
   "metadata": {},
   "outputs": [],
   "source": []
  }
 ],
 "metadata": {
  "kernelspec": {
   "display_name": "Python 3 (ipykernel)",
   "language": "python",
   "name": "python3"
  },
  "language_info": {
   "codemirror_mode": {
    "name": "ipython",
    "version": 3
   },
   "file_extension": ".py",
   "mimetype": "text/x-python",
   "name": "python",
   "nbconvert_exporter": "python",
   "pygments_lexer": "ipython3",
   "version": "3.12.4"
  }
 },
 "nbformat": 4,
 "nbformat_minor": 5
}
