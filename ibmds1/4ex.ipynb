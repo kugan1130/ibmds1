{
 "cells": [
  {
   "cell_type": "markdown",
   "id": "e6ed9b70-8d07-4754-80e2-5f37da82133f",
   "metadata": {},
   "source": [
    "## Data Science Languages\r\n",
    "- Python\r\n",
    "- R\r\n",
    "- SQL\r\n",
    "- Julia\r\n",
    "- Scala\r\n"
   ]
  },
  {
   "cell_type": "code",
   "execution_count": null,
   "id": "948b556f-487c-4fc5-833e-60b0a3f695e8",
   "metadata": {},
   "outputs": [],
   "source": []
  }
 ],
 "metadata": {
  "kernelspec": {
   "display_name": "Python 3 (ipykernel)",
   "language": "python",
   "name": "python3"
  },
  "language_info": {
   "codemirror_mode": {
    "name": "ipython",
    "version": 3
   },
   "file_extension": ".py",
   "mimetype": "text/x-python",
   "name": "python",
   "nbconvert_exporter": "python",
   "pygments_lexer": "ipython3",
   "version": "3.12.4"
  }
 },
 "nbformat": 4,
 "nbformat_minor": 5
}
