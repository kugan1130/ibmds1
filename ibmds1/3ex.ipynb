{
 "cells": [
  {
   "cell_type": "markdown",
   "id": "e694e16c-9e65-462f-aea0-74d661e75dec",
   "metadata": {},
   "source": [
    "# Tools for datascience\n",
    "This notebook provides an overview of data science tools, languages, and libraries, along with examples of simple arithmetic operations.\r\n"
   ]
  },
  {
   "cell_type": "code",
   "execution_count": null,
   "id": "95d9888c-4ca8-4978-896b-2987f6238663",
   "metadata": {},
   "outputs": [],
   "source": []
  }
 ],
 "metadata": {
  "kernelspec": {
   "display_name": "Python 3 (ipykernel)",
   "language": "python",
   "name": "python3"
  },
  "language_info": {
   "codemirror_mode": {
    "name": "ipython",
    "version": 3
   },
   "file_extension": ".py",
   "mimetype": "text/x-python",
   "name": "python",
   "nbconvert_exporter": "python",
   "pygments_lexer": "ipython3",
   "version": "3.12.4"
  }
 },
 "nbformat": 4,
 "nbformat_minor": 5
}
