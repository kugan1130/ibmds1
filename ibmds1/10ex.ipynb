{
 "cells": [
  {
   "cell_type": "markdown",
   "id": "485afa85-ab11-4cd3-bc07-e2709e7eed12",
   "metadata": {},
   "source": [
    "## Objectives\r\n",
    "- Learn about data science tools and libraries.\r\n",
    "- Practice Markdown and code cell creation.\r\n",
    "- Perform arithmetic operations in Python.\r\n"
   ]
  },
  {
   "cell_type": "code",
   "execution_count": null,
   "id": "45bc34fe-d58d-4919-b1e1-56fd596dbdf5",
   "metadata": {},
   "outputs": [],
   "source": []
  }
 ],
 "metadata": {
  "kernelspec": {
   "display_name": "Python 3 (ipykernel)",
   "language": "python",
   "name": "python3"
  },
  "language_info": {
   "codemirror_mode": {
    "name": "ipython",
    "version": 3
   },
   "file_extension": ".py",
   "mimetype": "text/x-python",
   "name": "python",
   "nbconvert_exporter": "python",
   "pygments_lexer": "ipython3",
   "version": "3.12.4"
  }
 },
 "nbformat": 4,
 "nbformat_minor": 5
}
