{
 "cells": [
  {
   "cell_type": "markdown",
   "id": "b9546435-84f0-4c91-ba7c-a6e59b9a14c8",
   "metadata": {},
   "source": [
    "## Data Science Tools\n",
    "| Tool            | Description                   |\n",
    "|-----------------|-------------------------------|\n",
    "| Jupyter Notebook| Interactive coding environment|\n",
    "| RStudio         | IDE for R                     |\n",
    "| Apache Spark    | Big data processing framework |\n"
   ]
  },
  {
   "cell_type": "code",
   "execution_count": null,
   "id": "c8954d4e-eceb-4aa1-b8ee-65da42d07449",
   "metadata": {},
   "outputs": [],
   "source": []
  }
 ],
 "metadata": {
  "kernelspec": {
   "display_name": "Python 3 (ipykernel)",
   "language": "python",
   "name": "python3"
  },
  "language_info": {
   "codemirror_mode": {
    "name": "ipython",
    "version": 3
   },
   "file_extension": ".py",
   "mimetype": "text/x-python",
   "name": "python",
   "nbconvert_exporter": "python",
   "pygments_lexer": "ipython3",
   "version": "3.12.4"
  }
 },
 "nbformat": 4,
 "nbformat_minor": 5
}
