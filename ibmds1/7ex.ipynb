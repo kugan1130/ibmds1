{
 "cells": [
  {
   "cell_type": "markdown",
   "id": "6f083b92-4226-4364-ba98-0fbe348d684e",
   "metadata": {},
   "source": [
    "## Examples of Arithmetic Operations\n",
    "Below are examples of basic arithmetic expressions:\n"
   ]
  },
  {
   "cell_type": "code",
   "execution_count": null,
   "id": "1cd15c4d-408c-4ed8-88c9-ab21930f497b",
   "metadata": {},
   "outputs": [],
   "source": []
  }
 ],
 "metadata": {
  "kernelspec": {
   "display_name": "Python 3 (ipykernel)",
   "language": "python",
   "name": "python3"
  },
  "language_info": {
   "codemirror_mode": {
    "name": "ipython",
    "version": 3
   },
   "file_extension": ".py",
   "mimetype": "text/x-python",
   "name": "python",
   "nbconvert_exporter": "python",
   "pygments_lexer": "ipython3",
   "version": "3.12.4"
  }
 },
 "nbformat": 4,
 "nbformat_minor": 5
}
